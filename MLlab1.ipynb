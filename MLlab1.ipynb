{
  "nbformat": 4,
  "nbformat_minor": 0,
  "metadata": {
    "colab": {
      "provenance": [],
      "authorship_tag": "ABX9TyP16nRvb7QVJBvJvrgL7hCm",
      "include_colab_link": true
    },
    "kernelspec": {
      "name": "python3",
      "display_name": "Python 3"
    },
    "language_info": {
      "name": "python"
    }
  },
  "cells": [
    {
      "cell_type": "markdown",
      "metadata": {
        "id": "view-in-github",
        "colab_type": "text"
      },
      "source": [
        "<a href=\"https://colab.research.google.com/github/RainberryFahim/478lab1/blob/main/MLlab1.ipynb\" target=\"_parent\"><img src=\"https://colab.research.google.com/assets/colab-badge.svg\" alt=\"Open In Colab\"/></a>"
      ]
    },
    {
      "cell_type": "markdown",
      "source": [
        "#ML lab1"
      ],
      "metadata": {
        "id": "sbw-CxyQ7bJV"
      }
    },
    {
      "cell_type": "code",
      "source": [
        "import pandas as pd\n",
        "import numpy as np\n",
        "from sklearn.tree import DecisionTreeClassifier, plot_tree\n",
        "import matplotlib.pyplot as plt\n",
        "import pandas as pd\n",
        "from sklearn import tree\n",
        "from sklearn.ensemble import RandomForestClassifier\n",
        "from sklearn.model_selection import train_test_split\n",
        "from sklearn.metrics import accuracy_score, classification_report\n",
        "import matplotlib.pyplot as plt"
      ],
      "metadata": {
        "id": "J-56dqwr7f9V"
      },
      "execution_count": 1,
      "outputs": []
    },
    {
      "cell_type": "markdown",
      "source": [
        "importing mahroom dataset"
      ],
      "metadata": {
        "id": "T-SW5JgN8BCj"
      }
    },
    {
      "cell_type": "code",
      "source": [
        "pip install ucimlrepo"
      ],
      "metadata": {
        "colab": {
          "base_uri": "https://localhost:8080/"
        },
        "id": "jnvCE40G8Ujv",
        "outputId": "e88c2b49-6c42-4b15-c968-d4ee71d5727e"
      },
      "execution_count": 5,
      "outputs": [
        {
          "output_type": "stream",
          "name": "stdout",
          "text": [
            "Collecting ucimlrepo\n",
            "  Downloading ucimlrepo-0.0.7-py3-none-any.whl (8.0 kB)\n",
            "Requirement already satisfied: pandas>=1.0.0 in /usr/local/lib/python3.10/dist-packages (from ucimlrepo) (2.0.3)\n",
            "Requirement already satisfied: certifi>=2020.12.5 in /usr/local/lib/python3.10/dist-packages (from ucimlrepo) (2024.7.4)\n",
            "Requirement already satisfied: python-dateutil>=2.8.2 in /usr/local/lib/python3.10/dist-packages (from pandas>=1.0.0->ucimlrepo) (2.8.2)\n",
            "Requirement already satisfied: pytz>=2020.1 in /usr/local/lib/python3.10/dist-packages (from pandas>=1.0.0->ucimlrepo) (2023.4)\n",
            "Requirement already satisfied: tzdata>=2022.1 in /usr/local/lib/python3.10/dist-packages (from pandas>=1.0.0->ucimlrepo) (2024.1)\n",
            "Requirement already satisfied: numpy>=1.21.0 in /usr/local/lib/python3.10/dist-packages (from pandas>=1.0.0->ucimlrepo) (1.25.2)\n",
            "Requirement already satisfied: six>=1.5 in /usr/local/lib/python3.10/dist-packages (from python-dateutil>=2.8.2->pandas>=1.0.0->ucimlrepo) (1.16.0)\n",
            "Installing collected packages: ucimlrepo\n",
            "Successfully installed ucimlrepo-0.0.7\n"
          ]
        }
      ]
    },
    {
      "cell_type": "code",
      "source": [
        "from ucimlrepo import fetch_ucirepo\n"
      ],
      "metadata": {
        "id": "boR6_0rY_3Ol"
      },
      "execution_count": 11,
      "outputs": []
    },
    {
      "cell_type": "code",
      "source": [
        "from ucimlrepo import fetch_ucirepo\n",
        "\n",
        "# fetch dataset\n",
        "mushroom = fetch_ucirepo(id=73)\n",
        "\n",
        "# data (as pandas dataframes)\n",
        "X = mushroom.data.features\n",
        "y = mushroom.data.targets\n",
        "\n",
        "# metadata\n",
        "print(mushroom.metadata)\n",
        "\n",
        "# variable information\n",
        "print(mushroom.variables)"
      ],
      "metadata": {
        "colab": {
          "base_uri": "https://localhost:8080/"
        },
        "id": "RLHnIN7wGNg-",
        "outputId": "5c36bdd3-607a-4d7d-f54f-a6b3f2d8a61c"
      },
      "execution_count": 13,
      "outputs": [
        {
          "output_type": "stream",
          "name": "stdout",
          "text": [
            "{'uci_id': 73, 'name': 'Mushroom', 'repository_url': 'https://archive.ics.uci.edu/dataset/73/mushroom', 'data_url': 'https://archive.ics.uci.edu/static/public/73/data.csv', 'abstract': 'From Audobon Society Field Guide; mushrooms described in terms of physical characteristics; classification: poisonous or edible', 'area': 'Biology', 'tasks': ['Classification'], 'characteristics': ['Multivariate'], 'num_instances': 8124, 'num_features': 22, 'feature_types': ['Categorical'], 'demographics': [], 'target_col': ['poisonous'], 'index_col': None, 'has_missing_values': 'yes', 'missing_values_symbol': 'NaN', 'year_of_dataset_creation': 1981, 'last_updated': 'Thu Aug 10 2023', 'dataset_doi': '10.24432/C5959T', 'creators': [], 'intro_paper': None, 'additional_info': {'summary': \"This data set includes descriptions of hypothetical samples corresponding to 23 species of gilled mushrooms in the Agaricus and Lepiota Family (pp. 500-525).  Each species is identified as definitely edible, definitely poisonous, or of unknown edibility and not recommended.  This latter class was combined with the poisonous one.  The Guide clearly states that there is no simple rule for determining the edibility of a mushroom; no rule like ``leaflets three, let it be'' for Poisonous Oak and Ivy.\", 'purpose': None, 'funded_by': None, 'instances_represent': None, 'recommended_data_splits': None, 'sensitive_data': None, 'preprocessing_description': None, 'variable_info': '     1. cap-shape:                bell=b,conical=c,convex=x,flat=f, knobbed=k,sunken=s\\r\\n     2. cap-surface:              fibrous=f,grooves=g,scaly=y,smooth=s\\r\\n     3. cap-color:                brown=n,buff=b,cinnamon=c,gray=g,green=r, pink=p,purple=u,red=e,white=w,yellow=y\\r\\n     4. bruises?:                 bruises=t,no=f\\r\\n     5. odor:                     almond=a,anise=l,creosote=c,fishy=y,foul=f, musty=m,none=n,pungent=p,spicy=s\\r\\n     6. gill-attachment:          attached=a,descending=d,free=f,notched=n\\r\\n     7. gill-spacing:             close=c,crowded=w,distant=d\\r\\n     8. gill-size:                broad=b,narrow=n\\r\\n     9. gill-color:               black=k,brown=n,buff=b,chocolate=h,gray=g, green=r,orange=o,pink=p,purple=u,red=e, white=w,yellow=y\\r\\n    10. stalk-shape:              enlarging=e,tapering=t\\r\\n    11. stalk-root:               bulbous=b,club=c,cup=u,equal=e, rhizomorphs=z,rooted=r,missing=?\\r\\n    12. stalk-surface-above-ring: fibrous=f,scaly=y,silky=k,smooth=s\\r\\n    13. stalk-surface-below-ring: fibrous=f,scaly=y,silky=k,smooth=s\\r\\n    14. stalk-color-above-ring:   brown=n,buff=b,cinnamon=c,gray=g,orange=o, pink=p,red=e,white=w,yellow=y\\r\\n    15. stalk-color-below-ring:   brown=n,buff=b,cinnamon=c,gray=g,orange=o, pink=p,red=e,white=w,yellow=y\\r\\n    16. veil-type:                partial=p,universal=u\\r\\n    17. veil-color:               brown=n,orange=o,white=w,yellow=y\\r\\n    18. ring-number:              none=n,one=o,two=t\\r\\n    19. ring-type:                cobwebby=c,evanescent=e,flaring=f,large=l, none=n,pendant=p,sheathing=s,zone=z\\r\\n    20. spore-print-color:        black=k,brown=n,buff=b,chocolate=h,green=r, orange=o,purple=u,white=w,yellow=y\\r\\n    21. population:               abundant=a,clustered=c,numerous=n, scattered=s,several=v,solitary=y\\r\\n    22. habitat:                  grasses=g,leaves=l,meadows=m,paths=p, urban=u,waste=w,woods=d', 'citation': None}}\n",
            "                        name     role         type demographic  \\\n",
            "0                  poisonous   Target  Categorical        None   \n",
            "1                  cap-shape  Feature  Categorical        None   \n",
            "2                cap-surface  Feature  Categorical        None   \n",
            "3                  cap-color  Feature       Binary        None   \n",
            "4                    bruises  Feature  Categorical        None   \n",
            "5                       odor  Feature  Categorical        None   \n",
            "6            gill-attachment  Feature  Categorical        None   \n",
            "7               gill-spacing  Feature  Categorical        None   \n",
            "8                  gill-size  Feature  Categorical        None   \n",
            "9                 gill-color  Feature  Categorical        None   \n",
            "10               stalk-shape  Feature  Categorical        None   \n",
            "11                stalk-root  Feature  Categorical        None   \n",
            "12  stalk-surface-above-ring  Feature  Categorical        None   \n",
            "13  stalk-surface-below-ring  Feature  Categorical        None   \n",
            "14    stalk-color-above-ring  Feature  Categorical        None   \n",
            "15    stalk-color-below-ring  Feature  Categorical        None   \n",
            "16                 veil-type  Feature       Binary        None   \n",
            "17                veil-color  Feature  Categorical        None   \n",
            "18               ring-number  Feature  Categorical        None   \n",
            "19                 ring-type  Feature  Categorical        None   \n",
            "20         spore-print-color  Feature  Categorical        None   \n",
            "21                population  Feature  Categorical        None   \n",
            "22                   habitat  Feature  Categorical        None   \n",
            "\n",
            "                                          description units missing_values  \n",
            "0                                                None  None             no  \n",
            "1   bell=b,conical=c,convex=x,flat=f, knobbed=k,su...  None             no  \n",
            "2                fibrous=f,grooves=g,scaly=y,smooth=s  None             no  \n",
            "3   brown=n,buff=b,cinnamon=c,gray=g,green=r, pink...  None             no  \n",
            "4                                      bruises=t,no=f  None             no  \n",
            "5   almond=a,anise=l,creosote=c,fishy=y,foul=f, mu...  None             no  \n",
            "6            attached=a,descending=d,free=f,notched=n  None             no  \n",
            "7                         close=c,crowded=w,distant=d  None             no  \n",
            "8                                    broad=b,narrow=n  None             no  \n",
            "9   black=k,brown=n,buff=b,chocolate=h,gray=g, gre...  None             no  \n",
            "10                             enlarging=e,tapering=t  None             no  \n",
            "11  bulbous=b,club=c,cup=u,equal=e, rhizomorphs=z,...  None            yes  \n",
            "12                 fibrous=f,scaly=y,silky=k,smooth=s  None             no  \n",
            "13                 fibrous=f,scaly=y,silky=k,smooth=s  None             no  \n",
            "14  brown=n,buff=b,cinnamon=c,gray=g,orange=o, pin...  None             no  \n",
            "15  brown=n,buff=b,cinnamon=c,gray=g,orange=o, pin...  None             no  \n",
            "16                              partial=p,universal=u  None             no  \n",
            "17                  brown=n,orange=o,white=w,yellow=y  None             no  \n",
            "18                                 none=n,one=o,two=t  None             no  \n",
            "19  cobwebby=c,evanescent=e,flaring=f,large=l, non...  None             no  \n",
            "20  black=k,brown=n,buff=b,chocolate=h,green=r, or...  None             no  \n",
            "21  abundant=a,clustered=c,numerous=n, scattered=s...  None             no  \n",
            "22  grasses=g,leaves=l,meadows=m,paths=p, urban=u,...  None             no  \n"
          ]
        }
      ]
    },
    {
      "cell_type": "code",
      "source": [
        "# Convert data to pandas dataframe\n",
        "df = pd.concat([X, y], axis=1)\n",
        "\n",
        "# Check the shape\n",
        "print(df.shape)\n",
        "# Display the first few rows of the dataset\n",
        "print(X.head())\n",
        "print(y.head())"
      ],
      "metadata": {
        "colab": {
          "base_uri": "https://localhost:8080/"
        },
        "id": "jXrAMFUiIauI",
        "outputId": "0d50e51b-29d4-4969-83a0-91b6ebf1a635"
      },
      "execution_count": 14,
      "outputs": [
        {
          "output_type": "stream",
          "name": "stdout",
          "text": [
            "(8124, 23)\n",
            "  cap-shape cap-surface cap-color bruises odor gill-attachment gill-spacing  \\\n",
            "0         x           s         n       t    p               f            c   \n",
            "1         x           s         y       t    a               f            c   \n",
            "2         b           s         w       t    l               f            c   \n",
            "3         x           y         w       t    p               f            c   \n",
            "4         x           s         g       f    n               f            w   \n",
            "\n",
            "  gill-size gill-color stalk-shape  ... stalk-surface-below-ring  \\\n",
            "0         n          k           e  ...                        s   \n",
            "1         b          k           e  ...                        s   \n",
            "2         b          n           e  ...                        s   \n",
            "3         n          n           e  ...                        s   \n",
            "4         b          k           t  ...                        s   \n",
            "\n",
            "  stalk-color-above-ring stalk-color-below-ring veil-type veil-color  \\\n",
            "0                      w                      w         p          w   \n",
            "1                      w                      w         p          w   \n",
            "2                      w                      w         p          w   \n",
            "3                      w                      w         p          w   \n",
            "4                      w                      w         p          w   \n",
            "\n",
            "  ring-number ring-type spore-print-color population habitat  \n",
            "0           o         p                 k          s       u  \n",
            "1           o         p                 n          n       g  \n",
            "2           o         p                 n          n       m  \n",
            "3           o         p                 k          s       u  \n",
            "4           o         e                 n          a       g  \n",
            "\n",
            "[5 rows x 22 columns]\n",
            "  poisonous\n",
            "0         p\n",
            "1         e\n",
            "2         e\n",
            "3         p\n",
            "4         e\n"
          ]
        }
      ]
    },
    {
      "cell_type": "markdown",
      "source": [],
      "metadata": {
        "id": "rYHIxPr4_t4d"
      }
    }
  ]
}